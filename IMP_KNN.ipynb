{
  "nbformat": 4,
  "nbformat_minor": 0,
  "metadata": {
    "colab": {
      "provenance": []
    },
    "kernelspec": {
      "name": "python3",
      "display_name": "Python 3"
    },
    "language_info": {
      "name": "python"
    }
  },
  "cells": [
    {
      "cell_type": "code",
      "execution_count": null,
      "metadata": {
        "id": "QpKscxuNQ_7G"
      },
      "outputs": [],
      "source": [
        "#To Fit a classification model using K Nearest (KNN) Algorithm"
      ]
    },
    {
      "cell_type": "code",
      "source": [
        "#Theory\n",
        "'''\n",
        "Eg:\n",
        "Imagine you're trying to decide which restaurant to visit based on the recommendations of your friends. KNN is like asking your nearest neighbors (friends) which\n",
        " restaurants they like the most.\n",
        "The restaurant that most of your nearest neighbors recommend is likely the one you'll choose to visit.\n",
        "\n",
        "Question: What is the K Nearest Neighbors (KNN) algorithm used for?\n",
        "Answer: The K Nearest Neighbors (KNN) algorithm is a supervised machine learning algorithm used for classification and regression tasks.\n",
        "In classification, it predicts the class of a data point based on the majority class of its k nearest neighbors.\n",
        "\n",
        "Question: How does the KNN algorithm work?\n",
        "Answer: To make a prediction for a new data point, the KNN algorithm identifies the k nearest neighbors to\n",
        "that point based on a distance metric (e.g., Euclidean distance). It then assigns the majority class among those neighbors\n",
        " as the predicted class for the new data point.\n",
        "\n",
        "Question: What is the importance of choosing the value of k in KNN?\n",
        "Answer: The choice of k affects the performance and behavior of the KNN algorithm. Smaller values of k lead to more flexible models\n",
        " that are sensitive to noise, while larger values of k lead to smoother decision boundaries but may overlook local patterns in the data.\n",
        "  The optimal value of k is often determined through experimentation and cross-validation.\n",
        "\n",
        "Question: How do you handle categorical variables in the KNN algorithm?\n",
        "Answer: Categorical variables need to be converted into numerical format before applying the KNN algorithm.\n",
        "This can be done through techniques like one-hot encoding, where each category is represented as a binary feature,\n",
        "or label encoding, where each category is assigned a unique numerical value.\n",
        "\n",
        "Question: What are the advantages and disadvantages of the KNN algorithm?\n",
        "Answer:\n",
        "\n",
        "Advantages: KNN is simple to understand and implement, does not require training time,\n",
        "and can be effective for non-linear classification tasks.\n",
        "Disadvantages: It can be computationally expensive, especially for large datasets, as it requires calculating\n",
        " distances between all data points. It is also sensitive to the choice of distance metric and the value of k.\n",
        "Question: How do you evaluate the performance of a KNN classifier?\n",
        "Answer: The performance of a KNN classifier can be evaluated using metrics such as accuracy, precision, recall,\n",
        "F1-score, and ROC-AUC score. Additionally, techniques like cross-validation can be used to assess the model's generalization performance.\n",
        "\n",
        "'''"
      ],
      "metadata": {
        "id": "TEYhQl29mnhX"
      },
      "execution_count": null,
      "outputs": []
    },
    {
      "cell_type": "code",
      "source": [
        "#1 Fit a classification model using KNearst Neighbour(KNN) Algorithm on a given data set(Smarket)\n",
        "\n",
        "#Code:\n",
        "import pandas as pd\n",
        "from sklearn.model_selection import train_test_split\n",
        "from sklearn.preprocessing import StandardScaler\n",
        "from sklearn.neighbors import KNeighborsClassifier\n",
        "from sklearn.metrics import accuracy_score\n",
        "\n",
        "# Load Smarket dataset\n",
        "smarket_df = pd.read_csv(\"Smarket.csv\")\n",
        "\n",
        "# Preprocessing: Extracting features and target variable\n",
        "X = smarket_df[['Lag1', 'Lag2', 'Lag3', 'Lag4', 'Lag5', 'Volume']].values\n",
        "y = smarket_df['Direction'].map({'Up': 1, 'Down': 0}).values\n",
        "\n",
        "# Splitting dataset into training and testing sets\n",
        "X_train, X_test, y_train, y_test = train_test_split(X, y, test_size=0.2, random_state=42)\n",
        "\n",
        "# Feature scaling\n",
        "scaler = StandardScaler()\n",
        "X_train_scaled = scaler.fit_transform(X_train)\n",
        "X_test_scaled = scaler.transform(X_test)\n",
        "\n",
        "# Train KNN classifier\n",
        "k = 3  # number of neighbors\n",
        "knn_model = KNeighborsClassifier(n_neighbors=k)\n",
        "knn_model.fit(X_train_scaled, y_train)\n",
        "\n",
        "# Predict\n",
        "y_pred = knn_model.predict(X_test_scaled)\n",
        "\n",
        "# Evaluate accuracy\n",
        "accuracy = accuracy_score(y_test, y_pred)\n",
        "print(\"Accuracy:\", accuracy)\n"
      ],
      "metadata": {
        "id": "RcKT43s4Ra-h"
      },
      "execution_count": null,
      "outputs": []
    },
    {
      "cell_type": "code",
      "source": [
        "#2)\tFit a classification model using K Nearest Neighbour (KNN) Algorithm on a given data set[weekly]\n",
        "\n",
        "#Code:\n",
        "import pandas as pd\n",
        "from sklearn.model_selection import train_test_split\n",
        "from sklearn.preprocessing import StandardScaler\n",
        "from sklearn.neighbors import KNeighborsClassifier\n",
        "from sklearn.metrics import accuracy_score\n",
        "\n",
        "# Load weekly dataset\n",
        "weekly_df = pd.read_csv(\"Weekly.csv\")\n",
        "\n",
        "# Preprocessing: Extracting features and target variable\n",
        "X = weekly_df.drop(['Direction', 'Year', 'Today'], axis=1).values\n",
        "y = weekly_df['Direction'].map({'Up': 1, 'Down': 0}).values\n",
        "\n",
        "# Splitting dataset into training and testing sets\n",
        "X_train, X_test, y_train, y_test = train_test_split(X, y, test_size=0.2, random_state=42)\n",
        "\n",
        "# Feature scaling\n",
        "scaler = StandardScaler()\n",
        "X_train_scaled = scaler.fit_transform(X_train)\n",
        "X_test_scaled = scaler.transform(X_test)\n",
        "\n",
        "# Train KNN classifier\n",
        "k = 3  # number of neighbors\n",
        "knn_model = KNeighborsClassifier(n_neighbors=k)\n",
        "knn_model.fit(X_train_scaled, y_train)\n",
        "\n",
        "# Predict\n",
        "y_pred = knn_model.predict(X_test_scaled)\n",
        "\n",
        "# Evaluate accuracy\n",
        "accuracy = accuracy_score(y_test, y_pred)\n",
        "print(\"Accuracy:\", accuracy)\n",
        "\n"
      ],
      "metadata": {
        "id": "n9PsPf-WRdoW"
      },
      "execution_count": null,
      "outputs": []
    },
    {
      "cell_type": "code",
      "source": [
        "#3)\tFit a classification model using K Nearest Neighbour (KNN) Algorithm on a given data set (iris)\n",
        "\n",
        "#Code:\n",
        "from sklearn.model_selection import train_test_split\n",
        "from sklearn.datasets import load_iris\n",
        "from sklearn.neighbors import KNeighborsClassifier\n",
        "from sklearn.metrics import accuracy_score\n",
        "\n",
        "# Load iris dataset\n",
        "iris = load_iris()\n",
        "\n",
        "# Preprocessing: Extracting features and target variable\n",
        "X = iris.data\n",
        "y = iris.target\n",
        "\n",
        "# Splitting dataset into training and testing sets\n",
        "X_train, X_test, y_train, y_test = train_test_split(X, y, test_size=0.2, random_state=42)\n",
        "\n",
        "# Train KNN classifier\n",
        "knn = KNeighborsClassifier(n_neighbors=3)\n",
        "knn.fit(X_train, y_train)\n",
        "\n",
        "# Predict\n",
        "y_pred = knn.predict(X_test)\n",
        "\n",
        "# Evaluate accuracy\n",
        "accuracy = accuracy_score(y_test, y_pred)\n",
        "print(\"Accuracy:\", accuracy)\n"
      ],
      "metadata": {
        "colab": {
          "base_uri": "https://localhost:8080/"
        },
        "id": "Z_pmCLaqS-bI",
        "outputId": "7e943a7d-180d-4142-a38f-139949446c86"
      },
      "execution_count": null,
      "outputs": [
        {
          "output_type": "stream",
          "name": "stdout",
          "text": [
            "Accuracy: 1.0\n"
          ]
        }
      ]
    },
    {
      "cell_type": "code",
      "source": [],
      "metadata": {
        "id": "o6q3RoCjTFl5"
      },
      "execution_count": null,
      "outputs": []
    }
  ]
}