{
  "nbformat": 4,
  "nbformat_minor": 0,
  "metadata": {
    "colab": {
      "provenance": []
    },
    "kernelspec": {
      "name": "python3",
      "display_name": "Python 3"
    },
    "language_info": {
      "name": "python"
    }
  },
  "cells": [
    {
      "cell_type": "code",
      "source": [
        "#Aim: To Perform Cross-Validation Types"
      ],
      "metadata": {
        "id": "hKuKpQa1QiH8"
      },
      "execution_count": null,
      "outputs": []
    },
    {
      "cell_type": "code",
      "source": [
        "#Theory\n",
        "'''\n",
        "Eg:\n",
        "Think of cross-validation as checking your answers on a practice test before taking the real exam. Instead of relying on a\n",
        "single set of test questions, you split your practice test into multiple smaller\n",
        " tests and average your scores to get a more reliable estimate of how well you'll do on the real test.\n",
        "\n",
        " Question: What is cross-validation, and why is it important in machine learning?\n",
        "Answer: Cross-validation is a technique used to assess the performance of a machine learning model by\n",
        " dividing the dataset into multiple subsets, training the model on some subsets, and evaluating it on the remaining subsets.\n",
        " It's important because it provides a more accurate estimate of a model's performance on unseen data and helps identify overfitting.\n",
        "\n",
        "Question: What are the different types of cross-validation?\n",
        "Answer: The most common types of cross-validation are:\n",
        "\n",
        "K-Fold Cross-Validation: The dataset is divided into k subsets, or folds. The model is trained on k-1 folds and evaluated on the remaining fold.\n",
        "This process is repeated k times, with each fold used once as the validation data.\n",
        "Leave-One-Out Cross-Validation (LOOCV): Each data point is used as the validation data, and the model is trained on all other data points.\n",
        "This process is repeated for each data point in the dataset.\n",
        "Stratified K-Fold Cross-Validation: Similar to k-fold cross-validation, but it ensures that each fold has approximately the same\n",
        " proportion of target classes as the entire dataset, which is useful for imbalanced datasets.\n",
        "Time Series Cross-Validation: Specifically designed for time series data, where data is split into consecutive blocks, and\n",
        " each block is used as a validation set while the preceding blocks are used for training.\n",
        "Question: How do you choose the appropriate type of cross-validation for a given dataset?\n",
        "Answer: The choice of cross-validation depends on various factors such as dataset size, data distribution, and the presence of temporal dependencies.\n",
        " For small to moderate-sized datasets, k-fold cross-validation is commonly used. For time series data, time series\n",
        " cross-validation is more appropriate. Stratified k-fold is preferred for imbalanced datasets.\n",
        "\n",
        "Question: What are the advantages and disadvantages of cross-validation?\n",
        "Answer:\n",
        "\n",
        "Advantages: It provides a more accurate estimate of a model's performance, reduces the risk of overfitting,\n",
        " and helps in selecting the best model hyperparameters.\n",
        "Disadvantages: It can be computationally expensive, especially for large datasets and complex models. It may also\n",
        "introduce variability in model performance due to random splitting of data.\n",
        "Question: How do you implement cross-validation in practice?\n",
        "Answer: Cross-validation can be implemented using libraries such as scikit-learn in Python. You typically use\n",
        "functions like cross_val_score or cross_validate to perform cross-validation and evaluate the model's performance\n",
        "using appropriate metrics. Additionally, you can customize cross-validation strategies based on your specific requirements.\n",
        "\n",
        "\n",
        "\n",
        "'''"
      ],
      "metadata": {
        "id": "4EwfD0domD8W"
      },
      "execution_count": null,
      "outputs": []
    },
    {
      "cell_type": "code",
      "execution_count": null,
      "metadata": {
        "colab": {
          "base_uri": "https://localhost:8080/"
        },
        "id": "jvmAXWd2QcvS",
        "outputId": "f16aa9ec-6620-4f4a-de8e-dfe85749b8c8"
      },
      "outputs": [
        {
          "output_type": "stream",
          "name": "stdout",
          "text": [
            "K-fold cross-validation:\n",
            "Train indices: [2 3]\n",
            "Test indices: [0 1]\n",
            "Train indices: [0 1]\n",
            "Test indices: [2 3]\n",
            "Cross-validation scores: [0.8, 0.8]\n",
            "Mean Accuracy: 0.8\n",
            "\n",
            "Stratified K-Fold Cross-Validation:\n",
            "Train indices: [2 3]\n",
            "Test indices: [0 1]\n",
            "Train indices: [0 1]\n",
            "Test indices: [2 3]\n",
            "Cross-validation scores: [0.8, 0.8]\n",
            "Mean Accuracy: 0.8\n",
            "\n",
            "Leave-One-Out Cross-Validation:\n",
            "Train indices: [1 2 3]\n",
            "Test indices: [0]\n",
            "Train indices: [0 2 3]\n",
            "Test indices: [1]\n",
            "Train indices: [0 1 3]\n",
            "Test indices: [2]\n",
            "Train indices: [0 1 2]\n",
            "Test indices: [3]\n",
            "Cross-validation scores: [0.8, 0.8, 0.8, 0.8]\n",
            "Mean Accuracy: 0.8\n"
          ]
        }
      ],
      "source": [
        "\n",
        "#1)\tWrite a Python code to perform cross-validation types\n",
        "#Code:\n",
        "import numpy as np\n",
        "from sklearn.model_selection import KFold, StratifiedKFold, LeaveOneOut\n",
        "\n",
        "# Sample data\n",
        "x = np.array([[1, 2], [3, 4], [5, 6], [7, 8]])\n",
        "y = np.array([1, 2, 1, 2])\n",
        "\n",
        "# Function to print cross-validation scores\n",
        "def print_scores(scores):\n",
        "    print(\"Cross-validation scores:\", scores)\n",
        "    print(\"Mean Accuracy:\", np.mean(scores))\n",
        "\n",
        "# Perform k-fold cross-validation\n",
        "def k_fold_cross_validation(x, y, k):\n",
        "    kf = KFold(n_splits=k)\n",
        "    scores = []\n",
        "    for train_index, test_index in kf.split(x):\n",
        "        x_train, x_test = x[train_index], x[test_index]\n",
        "        y_train, y_test = y[train_index], y[test_index]\n",
        "        # Train your model and evaluate\n",
        "        # For demonstration, just printing the train and test indices\n",
        "        print(\"Train indices:\", train_index)\n",
        "        print(\"Test indices:\", test_index)\n",
        "        scores.append(0.8)  # Dummy accuracy\n",
        "    print_scores(scores)\n",
        "\n",
        "# Perform stratified k-fold cross-validation\n",
        "def stratified_k_fold_cross_validation(x, y, k):\n",
        "    skf = StratifiedKFold(n_splits=k)\n",
        "    scores = []\n",
        "    for train_index, test_index in skf.split(x, y):\n",
        "        x_train, x_test = x[train_index], x[test_index]\n",
        "        y_train, y_test = y[train_index], y[test_index]\n",
        "        # Train your model and evaluate\n",
        "        # For demonstration, just printing the train and test indices\n",
        "        print(\"Train indices:\", train_index)\n",
        "        print(\"Test indices:\", test_index)\n",
        "        scores.append(0.8)  # Dummy accuracy\n",
        "    print_scores(scores)\n",
        "\n",
        "# Perform leave-one-out cross-validation\n",
        "def leave_one_out_cross_validation(x, y):\n",
        "    loo = LeaveOneOut()\n",
        "    scores = []\n",
        "    for train_index, test_index in loo.split(x):\n",
        "        x_train, x_test = x[train_index], x[test_index]\n",
        "        y_train, y_test = y[train_index], y[test_index]\n",
        "        # Train your model and evaluate\n",
        "        # For demonstration, just printing the train and test indices\n",
        "        print(\"Train indices:\", train_index)\n",
        "        print(\"Test indices:\", test_index)\n",
        "        scores.append(0.8)  # Dummy accuracy\n",
        "    print_scores(scores)\n",
        "\n",
        "# Example usage\n",
        "print(\"K-fold cross-validation:\")\n",
        "k_fold_cross_validation(x, y, k=2)\n",
        "print(\"\\nStratified K-Fold Cross-Validation:\")\n",
        "stratified_k_fold_cross_validation(x, y, k=2)\n",
        "print(\"\\nLeave-One-Out Cross-Validation:\")\n",
        "leave_one_out_cross_validation(x, y)\n"
      ]
    }
  ]
}